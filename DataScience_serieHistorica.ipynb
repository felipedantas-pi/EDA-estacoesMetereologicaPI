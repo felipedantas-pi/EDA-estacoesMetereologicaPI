{
 "cells": [
  {
   "cell_type": "code",
   "execution_count": 1,
   "id": "f91f3e9c-def9-4bcf-a71d-2a8dfc474aa4",
   "metadata": {
    "tags": []
   },
   "outputs": [],
   "source": [
    "import glob, os\n",
    "import pandas as pd\n",
    "import zipfile, requests\n",
    "from io import BytesIO"
   ]
  },
  {
   "cell_type": "code",
   "execution_count": 2,
   "id": "5342d336-18e4-4476-a2cf-4f3b3d5d9eb1",
   "metadata": {
    "tags": []
   },
   "outputs": [],
   "source": [
    "# Dados Históricos para o ano de 2022\n",
    "def download_serieHistorica_inmet(ano:int, chunk_size=1024):\n",
    "    url = f'https://portal.inmet.gov.br/uploads/dadoshistoricos/{ano}.zip'\n",
    "    extension_file = os.path.splitext(url)[1]\n",
    "    save_path = './dados/inmet/'\n",
    "    filename = url.split('/')[-1]\n",
    "    if os.path.isfile(os.path.join(save_path,str(ano)+extension_file)):\n",
    "        print(\"Arquivo solicitado já existe e não será sobrescrevido.\")\n",
    "    else:\n",
    "        print(\"Arquivo não exite.\")\n",
    "        print(\"Iniciando o download...\")\n",
    "        r = requests.get(url, stream=True)\n",
    "        z = zipfile.ZipFile(BytesIO(r.content))\n",
    "        print(\"Downloading completed.\")\n",
    "        print(\"Iniciando a extração dos arquivos CSV...\")\n",
    "        z.extractall(save_path)\n",
    "        print(\"Extração Finalizada.\")"
   ]
  },
  {
   "cell_type": "code",
   "execution_count": 4,
   "id": "212f19cf-4a05-4b01-a73a-09eff044aa39",
   "metadata": {
    "tags": []
   },
   "outputs": [
    {
     "name": "stdout",
     "output_type": "stream",
     "text": [
      "Arquivo solicitado já existe e não será sobrescrevido.\n"
     ]
    }
   ],
   "source": [
    "pi_2022 = download_serieHistorica_inmet(2022)"
   ]
  },
  {
   "cell_type": "code",
   "execution_count": 5,
   "id": "2eb259f8-24b2-4069-b823-7308307af155",
   "metadata": {},
   "outputs": [
    {
     "name": "stdout",
     "output_type": "stream",
     "text": [
      "Contém 21 arquivos\n"
     ]
    },
    {
     "data": {
      "text/plain": [
       "['.\\\\dados\\\\inmet\\\\INMET_NE_PI_A308_PARNAIBA_01-01-2022_A_31-12-2022.CSV',\n",
       " '.\\\\dados\\\\inmet\\\\INMET_NE_PI_A311_FLORIANO_01-01-2022_A_31-12-2022.CSV',\n",
       " '.\\\\dados\\\\inmet\\\\INMET_NE_PI_A312_TERESINA_01-01-2022_A_31-12-2022.CSV',\n",
       " '.\\\\dados\\\\inmet\\\\INMET_NE_PI_A326_BOM JESUS DO PIAUI_01-01-2022_A_31-12-2022.CSV',\n",
       " '.\\\\dados\\\\inmet\\\\INMET_NE_PI_A330_PAULISTANA_01-01-2022_A_31-12-2022.CSV',\n",
       " '.\\\\dados\\\\inmet\\\\INMET_NE_PI_A331_SAO JOAO DO PIAUI_01-01-2022_A_31-12-2022.CSV',\n",
       " '.\\\\dados\\\\inmet\\\\INMET_NE_PI_A335_PIRIPIRI_01-01-2022_A_31-12-2022.CSV',\n",
       " '.\\\\dados\\\\inmet\\\\INMET_NE_PI_A336_ALVORADA DO GURGUEIA_01-01-2022_A_31-12-2022.CSV',\n",
       " '.\\\\dados\\\\inmet\\\\INMET_NE_PI_A337_CARACOL_01-01-2022_A_31-12-2022.CSV',\n",
       " '.\\\\dados\\\\inmet\\\\INMET_NE_PI_A343_PICOS_01-01-2022_A_31-12-2022.CSV',\n",
       " '.\\\\dados\\\\inmet\\\\INMET_NE_PI_A345_SAO RAIMUNDO NONATO_01-01-2022_A_31-12-2022.CSV',\n",
       " '.\\\\dados\\\\inmet\\\\INMET_NE_PI_A346_URUCUI_01-01-2022_A_31-12-2022.CSV',\n",
       " '.\\\\dados\\\\inmet\\\\INMET_NE_PI_A354_OEIRAS_01-01-2022_A_31-12-2022.CSV',\n",
       " '.\\\\dados\\\\inmet\\\\INMET_NE_PI_A361_CASTELO DO PIAUI_01-01-2022_A_31-12-2022.CSV',\n",
       " '.\\\\dados\\\\inmet\\\\INMET_NE_PI_A363_VALENCA DO PIAUI_01-01-2022_A_31-12-2022.CSV',\n",
       " '.\\\\dados\\\\inmet\\\\INMET_NE_PI_A364_GILBUES_01-01-2022_A_31-12-2022.CSV',\n",
       " '.\\\\dados\\\\inmet\\\\INMET_NE_PI_A365_CANTO DO BURITI_01-01-2022_A_31-12-2022.CSV',\n",
       " '.\\\\dados\\\\inmet\\\\INMET_NE_PI_A374_CORRENTE_01-01-2022_A_31-12-2022.CSV',\n",
       " '.\\\\dados\\\\inmet\\\\INMET_NE_PI_A375_BAIXA GRANDE DO RIBEIRO_01-01-2022_A_31-12-2022.CSV',\n",
       " '.\\\\dados\\\\inmet\\\\INMET_NE_PI_A376_CAMPO MAIOR_01-01-2022_A_31-12-2022.CSV',\n",
       " '.\\\\dados\\\\inmet\\\\INMET_NE_PI_A377_ANGICAL DO PIAUI_01-01-2022_A_31-12-2022.CSV']"
      ]
     },
     "execution_count": 5,
     "metadata": {},
     "output_type": "execute_result"
    }
   ],
   "source": [
    "# INMET_NE_PI_A308_PARNAIBA_01-01-2022_A_31-12-2022.CSV\n",
    "path_dados = \".\\\\dados\\\\inmet\"\n",
    "files = glob.glob(os.path.join(path_dados, \"INMET_NE_PI_*.CSV\"))\n",
    "print(f\"Contém {len(files)} arquivos\")\n",
    "files"
   ]
  },
  {
   "cell_type": "code",
   "execution_count": 20,
   "id": "ff759fe4-1268-4caa-a5d7-a8c7742aceb7",
   "metadata": {
    "tags": []
   },
   "outputs": [
    {
     "data": {
      "text/plain": [
       "Data                                                      object\n",
       "Hora UTC                                                  object\n",
       "PRECIPITAÇÃO TOTAL, HORÁRIO (mm)                         float64\n",
       "PRESSAO ATMOSFERICA AO NIVEL DA ESTACAO, HORARIA (mB)    float64\n",
       "PRESSÃO ATMOSFERICA MAX.NA HORA ANT. (AUT) (mB)          float64\n",
       "PRESSÃO ATMOSFERICA MIN. NA HORA ANT. (AUT) (mB)         float64\n",
       "RADIACAO GLOBAL (Kj/m²)                                  float64\n",
       "TEMPERATURA DO AR - BULBO SECO, HORARIA (°C)             float64\n",
       "TEMPERATURA DO PONTO DE ORVALHO (°C)                     float64\n",
       "TEMPERATURA MÁXIMA NA HORA ANT. (AUT) (°C)               float64\n",
       "TEMPERATURA MÍNIMA NA HORA ANT. (AUT) (°C)               float64\n",
       "TEMPERATURA ORVALHO MAX. NA HORA ANT. (AUT) (°C)         float64\n",
       "TEMPERATURA ORVALHO MIN. NA HORA ANT. (AUT) (°C)         float64\n",
       "UMIDADE REL. MAX. NA HORA ANT. (AUT) (%)                 float64\n",
       "UMIDADE REL. MIN. NA HORA ANT. (AUT) (%)                 float64\n",
       "UMIDADE RELATIVA DO AR, HORARIA (%)                      float64\n",
       "VENTO, DIREÇÃO HORARIA (gr) (° (gr))                     float64\n",
       "VENTO, RAJADA MAXIMA (m/s)                               float64\n",
       "VENTO, VELOCIDADE HORARIA (m/s)                          float64\n",
       "Unnamed: 19                                              float64\n",
       "dtype: object"
      ]
     },
     "execution_count": 20,
     "metadata": {},
     "output_type": "execute_result"
    }
   ],
   "source": [
    "pd.read_csv(files[0], sep=';', skiprows=8, decimal=',', encoding='ANSI', parse_dates=True).dtypes"
   ]
  },
  {
   "cell_type": "code",
   "execution_count": 7,
   "id": "abcb7bf1-b0f3-4336-bfc8-9a2b99ec5461",
   "metadata": {
    "tags": []
   },
   "outputs": [],
   "source": [
    "new_df = pd.DataFrame()\n",
    "for file in files:\n",
    "    # Criando um dataframe a partir da 9 linha\n",
    "    df_file = pd.read_csv(file, sep=';', skiprows=8, decimal=',', encoding='ANSI', infer_datetime_format=True)\n",
    "    cols4rename1 = {\n",
    "        'Data':'data',\n",
    "        'Hora UTC':'hora_utc',\n",
    "        'PRECIPITAÇÃO TOTAL, HORÁRIO (mm)':'precip_tt_mm'}\n",
    "    df_file = df_file.drop(columns=df_file.columns[3:]).rename(columns=cols4rename1)\n",
    "    \n",
    "    # Abrindo o CSV e extraindo as 8 primerias linhas\n",
    "    with open(file, 'r') as f:\n",
    "        lines = [next(f).strip() for _ in range(8)]\n",
    "    dados_lines_1_8 = {}\n",
    "    for linha in lines:\n",
    "        chave, valor = linha.split(';')\n",
    "        dados_lines_1_8[chave] = [valor]\n",
    "        \n",
    "    # Criando um dataframe das 8primeiras linhas\n",
    "    df_1_8 = pd.DataFrame(dados_lines_1_8).drop(columns=['DATA DE FUNDACAO:'])\n",
    "    cols4rename2 = {\n",
    "        'REGIAO:':'regiao',\n",
    "        'UF:':'uf',\n",
    "        'ESTACAO:':'estacao',\n",
    "        'CODIGO (WMO):':'codEst',\n",
    "        'LATITUDE:':'latitude',\n",
    "        'LONGITUDE:':'longitude',\n",
    "        'ALTITUDE:':'altitude'}\n",
    "    dados = pd.concat([df_1_8] * len(df_file), ignore_index=True).ffill().fillna(df_file).rename(columns=cols4rename2)\n",
    "    \n",
    "    if new_df.empty:\n",
    "        new_df = pd.concat([dados, df_file], axis=1)\n",
    "    else:\n",
    "        new_df = pd.concat([new_df, pd.concat([dados, df_file], axis=1)])"
   ]
  },
  {
   "cell_type": "code",
   "execution_count": 8,
   "id": "565648c9-0193-48ff-9e63-2c0764866132",
   "metadata": {
    "tags": []
   },
   "outputs": [
    {
     "data": {
      "text/plain": [
       "(183960, 10)"
      ]
     },
     "execution_count": 8,
     "metadata": {},
     "output_type": "execute_result"
    }
   ],
   "source": [
    "new_df.shape"
   ]
  },
  {
   "cell_type": "code",
   "execution_count": 9,
   "id": "ae19e97e-5170-4216-8d0e-352df4c74cc6",
   "metadata": {},
   "outputs": [
    {
     "data": {
      "text/html": [
       "<div>\n",
       "<style scoped>\n",
       "    .dataframe tbody tr th:only-of-type {\n",
       "        vertical-align: middle;\n",
       "    }\n",
       "\n",
       "    .dataframe tbody tr th {\n",
       "        vertical-align: top;\n",
       "    }\n",
       "\n",
       "    .dataframe thead th {\n",
       "        text-align: right;\n",
       "    }\n",
       "</style>\n",
       "<table border=\"1\" class=\"dataframe\">\n",
       "  <thead>\n",
       "    <tr style=\"text-align: right;\">\n",
       "      <th></th>\n",
       "      <th>regiao</th>\n",
       "      <th>uf</th>\n",
       "      <th>estacao</th>\n",
       "      <th>codEst</th>\n",
       "      <th>latitude</th>\n",
       "      <th>longitude</th>\n",
       "      <th>altitude</th>\n",
       "      <th>data</th>\n",
       "      <th>hora_utc</th>\n",
       "      <th>precip_tt_mm</th>\n",
       "    </tr>\n",
       "  </thead>\n",
       "  <tbody>\n",
       "    <tr>\n",
       "      <th>0</th>\n",
       "      <td>NE</td>\n",
       "      <td>PI</td>\n",
       "      <td>PARNAIBA</td>\n",
       "      <td>A308</td>\n",
       "      <td>-3,08666666</td>\n",
       "      <td>-41,78305554</td>\n",
       "      <td>52,11</td>\n",
       "      <td>2022/01/01</td>\n",
       "      <td>0000 UTC</td>\n",
       "      <td>NaN</td>\n",
       "    </tr>\n",
       "    <tr>\n",
       "      <th>1</th>\n",
       "      <td>NE</td>\n",
       "      <td>PI</td>\n",
       "      <td>PARNAIBA</td>\n",
       "      <td>A308</td>\n",
       "      <td>-3,08666666</td>\n",
       "      <td>-41,78305554</td>\n",
       "      <td>52,11</td>\n",
       "      <td>2022/01/01</td>\n",
       "      <td>0100 UTC</td>\n",
       "      <td>0.0</td>\n",
       "    </tr>\n",
       "    <tr>\n",
       "      <th>2</th>\n",
       "      <td>NE</td>\n",
       "      <td>PI</td>\n",
       "      <td>PARNAIBA</td>\n",
       "      <td>A308</td>\n",
       "      <td>-3,08666666</td>\n",
       "      <td>-41,78305554</td>\n",
       "      <td>52,11</td>\n",
       "      <td>2022/01/01</td>\n",
       "      <td>0200 UTC</td>\n",
       "      <td>NaN</td>\n",
       "    </tr>\n",
       "    <tr>\n",
       "      <th>3</th>\n",
       "      <td>NE</td>\n",
       "      <td>PI</td>\n",
       "      <td>PARNAIBA</td>\n",
       "      <td>A308</td>\n",
       "      <td>-3,08666666</td>\n",
       "      <td>-41,78305554</td>\n",
       "      <td>52,11</td>\n",
       "      <td>2022/01/01</td>\n",
       "      <td>0300 UTC</td>\n",
       "      <td>0.0</td>\n",
       "    </tr>\n",
       "    <tr>\n",
       "      <th>4</th>\n",
       "      <td>NE</td>\n",
       "      <td>PI</td>\n",
       "      <td>PARNAIBA</td>\n",
       "      <td>A308</td>\n",
       "      <td>-3,08666666</td>\n",
       "      <td>-41,78305554</td>\n",
       "      <td>52,11</td>\n",
       "      <td>2022/01/01</td>\n",
       "      <td>0400 UTC</td>\n",
       "      <td>0.0</td>\n",
       "    </tr>\n",
       "  </tbody>\n",
       "</table>\n",
       "</div>"
      ],
      "text/plain": [
       "  regiao  uf   estacao codEst     latitude     longitude altitude        data   \n",
       "0     NE  PI  PARNAIBA   A308  -3,08666666  -41,78305554    52,11  2022/01/01  \\\n",
       "1     NE  PI  PARNAIBA   A308  -3,08666666  -41,78305554    52,11  2022/01/01   \n",
       "2     NE  PI  PARNAIBA   A308  -3,08666666  -41,78305554    52,11  2022/01/01   \n",
       "3     NE  PI  PARNAIBA   A308  -3,08666666  -41,78305554    52,11  2022/01/01   \n",
       "4     NE  PI  PARNAIBA   A308  -3,08666666  -41,78305554    52,11  2022/01/01   \n",
       "\n",
       "   hora_utc  precip_tt_mm  \n",
       "0  0000 UTC           NaN  \n",
       "1  0100 UTC           0.0  \n",
       "2  0200 UTC           NaN  \n",
       "3  0300 UTC           0.0  \n",
       "4  0400 UTC           0.0  "
      ]
     },
     "execution_count": 9,
     "metadata": {},
     "output_type": "execute_result"
    }
   ],
   "source": [
    "new_df.head()"
   ]
  },
  {
   "cell_type": "code",
   "execution_count": 15,
   "id": "540eec27-fd86-4feb-8430-20bf10ff35d3",
   "metadata": {
    "tags": []
   },
   "outputs": [
    {
     "data": {
      "text/plain": [
       "regiao           object\n",
       "uf               object\n",
       "estacao          object\n",
       "codEst           object\n",
       "latitude         object\n",
       "longitude        object\n",
       "altitude         object\n",
       "data             object\n",
       "hora_utc         object\n",
       "precip_tt_mm    float64\n",
       "dtype: object"
      ]
     },
     "execution_count": 15,
     "metadata": {},
     "output_type": "execute_result"
    }
   ],
   "source": [
    "new_df.dtypes"
   ]
  },
  {
   "cell_type": "code",
   "execution_count": 84,
   "id": "3c896d51-974f-4577-962d-baa16e3bc2f8",
   "metadata": {
    "tags": []
   },
   "outputs": [
    {
     "ename": "AttributeError",
     "evalue": "Can only use .dt accessor with datetimelike values",
     "output_type": "error",
     "traceback": [
      "\u001b[1;31m---------------------------------------------------------------------------\u001b[0m",
      "\u001b[1;31mAttributeError\u001b[0m                            Traceback (most recent call last)",
      "Cell \u001b[1;32mIn[84], line 1\u001b[0m\n\u001b[1;32m----> 1\u001b[0m new_df\u001b[38;5;241m.\u001b[39minsert(loc\u001b[38;5;241m=\u001b[39m\u001b[38;5;241m8\u001b[39m, column\u001b[38;5;241m=\u001b[39m\u001b[38;5;124m'\u001b[39m\u001b[38;5;124mmes\u001b[39m\u001b[38;5;124m'\u001b[39m, value\u001b[38;5;241m=\u001b[39m\u001b[43mnew_df\u001b[49m\u001b[43m[\u001b[49m\u001b[38;5;124;43m'\u001b[39;49m\u001b[38;5;124;43mdata\u001b[39;49m\u001b[38;5;124;43m'\u001b[39;49m\u001b[43m]\u001b[49m\u001b[38;5;241;43m.\u001b[39;49m\u001b[43mdt\u001b[49m\u001b[38;5;241m.\u001b[39mmonth)\n",
      "File \u001b[1;32m~\\workspace\\github\\estacoesMetereoligicas-piaui\\.venv\\Lib\\site-packages\\pandas\\core\\generic.py:5989\u001b[0m, in \u001b[0;36mNDFrame.__getattr__\u001b[1;34m(self, name)\u001b[0m\n\u001b[0;32m   5982\u001b[0m \u001b[38;5;28;01mif\u001b[39;00m (\n\u001b[0;32m   5983\u001b[0m     name \u001b[38;5;129;01mnot\u001b[39;00m \u001b[38;5;129;01min\u001b[39;00m \u001b[38;5;28mself\u001b[39m\u001b[38;5;241m.\u001b[39m_internal_names_set\n\u001b[0;32m   5984\u001b[0m     \u001b[38;5;129;01mand\u001b[39;00m name \u001b[38;5;129;01mnot\u001b[39;00m \u001b[38;5;129;01min\u001b[39;00m \u001b[38;5;28mself\u001b[39m\u001b[38;5;241m.\u001b[39m_metadata\n\u001b[0;32m   5985\u001b[0m     \u001b[38;5;129;01mand\u001b[39;00m name \u001b[38;5;129;01mnot\u001b[39;00m \u001b[38;5;129;01min\u001b[39;00m \u001b[38;5;28mself\u001b[39m\u001b[38;5;241m.\u001b[39m_accessors\n\u001b[0;32m   5986\u001b[0m     \u001b[38;5;129;01mand\u001b[39;00m \u001b[38;5;28mself\u001b[39m\u001b[38;5;241m.\u001b[39m_info_axis\u001b[38;5;241m.\u001b[39m_can_hold_identifiers_and_holds_name(name)\n\u001b[0;32m   5987\u001b[0m ):\n\u001b[0;32m   5988\u001b[0m     \u001b[38;5;28;01mreturn\u001b[39;00m \u001b[38;5;28mself\u001b[39m[name]\n\u001b[1;32m-> 5989\u001b[0m \u001b[38;5;28;01mreturn\u001b[39;00m \u001b[38;5;28;43mobject\u001b[39;49m\u001b[38;5;241;43m.\u001b[39;49m\u001b[38;5;21;43m__getattribute__\u001b[39;49m\u001b[43m(\u001b[49m\u001b[38;5;28;43mself\u001b[39;49m\u001b[43m,\u001b[49m\u001b[43m \u001b[49m\u001b[43mname\u001b[49m\u001b[43m)\u001b[49m\n",
      "File \u001b[1;32m~\\workspace\\github\\estacoesMetereoligicas-piaui\\.venv\\Lib\\site-packages\\pandas\\core\\accessor.py:224\u001b[0m, in \u001b[0;36mCachedAccessor.__get__\u001b[1;34m(self, obj, cls)\u001b[0m\n\u001b[0;32m    221\u001b[0m \u001b[38;5;28;01mif\u001b[39;00m obj \u001b[38;5;129;01mis\u001b[39;00m \u001b[38;5;28;01mNone\u001b[39;00m:\n\u001b[0;32m    222\u001b[0m     \u001b[38;5;66;03m# we're accessing the attribute of the class, i.e., Dataset.geo\u001b[39;00m\n\u001b[0;32m    223\u001b[0m     \u001b[38;5;28;01mreturn\u001b[39;00m \u001b[38;5;28mself\u001b[39m\u001b[38;5;241m.\u001b[39m_accessor\n\u001b[1;32m--> 224\u001b[0m accessor_obj \u001b[38;5;241m=\u001b[39m \u001b[38;5;28;43mself\u001b[39;49m\u001b[38;5;241;43m.\u001b[39;49m\u001b[43m_accessor\u001b[49m\u001b[43m(\u001b[49m\u001b[43mobj\u001b[49m\u001b[43m)\u001b[49m\n\u001b[0;32m    225\u001b[0m \u001b[38;5;66;03m# Replace the property with the accessor object. Inspired by:\u001b[39;00m\n\u001b[0;32m    226\u001b[0m \u001b[38;5;66;03m# https://www.pydanny.com/cached-property.html\u001b[39;00m\n\u001b[0;32m    227\u001b[0m \u001b[38;5;66;03m# We need to use object.__setattr__ because we overwrite __setattr__ on\u001b[39;00m\n\u001b[0;32m    228\u001b[0m \u001b[38;5;66;03m# NDFrame\u001b[39;00m\n\u001b[0;32m    229\u001b[0m \u001b[38;5;28mobject\u001b[39m\u001b[38;5;241m.\u001b[39m\u001b[38;5;21m__setattr__\u001b[39m(obj, \u001b[38;5;28mself\u001b[39m\u001b[38;5;241m.\u001b[39m_name, accessor_obj)\n",
      "File \u001b[1;32m~\\workspace\\github\\estacoesMetereoligicas-piaui\\.venv\\Lib\\site-packages\\pandas\\core\\indexes\\accessors.py:580\u001b[0m, in \u001b[0;36mCombinedDatetimelikeProperties.__new__\u001b[1;34m(cls, data)\u001b[0m\n\u001b[0;32m    577\u001b[0m \u001b[38;5;28;01melif\u001b[39;00m is_period_dtype(data\u001b[38;5;241m.\u001b[39mdtype):\n\u001b[0;32m    578\u001b[0m     \u001b[38;5;28;01mreturn\u001b[39;00m PeriodProperties(data, orig)\n\u001b[1;32m--> 580\u001b[0m \u001b[38;5;28;01mraise\u001b[39;00m \u001b[38;5;167;01mAttributeError\u001b[39;00m(\u001b[38;5;124m\"\u001b[39m\u001b[38;5;124mCan only use .dt accessor with datetimelike values\u001b[39m\u001b[38;5;124m\"\u001b[39m)\n",
      "\u001b[1;31mAttributeError\u001b[0m: Can only use .dt accessor with datetimelike values"
     ]
    }
   ],
   "source": [
    "new_df.insert(loc=8, column='mes', value=new_df['data'].dt.month)"
   ]
  },
  {
   "cell_type": "code",
   "execution_count": 81,
   "id": "2fd1b03b-b61b-4c51-9309-13c2abf7025a",
   "metadata": {
    "tags": []
   },
   "outputs": [
    {
     "data": {
      "text/html": [
       "<div>\n",
       "<style scoped>\n",
       "    .dataframe tbody tr th:only-of-type {\n",
       "        vertical-align: middle;\n",
       "    }\n",
       "\n",
       "    .dataframe tbody tr th {\n",
       "        vertical-align: top;\n",
       "    }\n",
       "\n",
       "    .dataframe thead th {\n",
       "        text-align: right;\n",
       "    }\n",
       "</style>\n",
       "<table border=\"1\" class=\"dataframe\">\n",
       "  <thead>\n",
       "    <tr style=\"text-align: right;\">\n",
       "      <th></th>\n",
       "      <th>regiao</th>\n",
       "      <th>uf</th>\n",
       "      <th>estacao</th>\n",
       "      <th>codEst</th>\n",
       "      <th>latitude</th>\n",
       "      <th>longitude</th>\n",
       "      <th>altitude</th>\n",
       "      <th>data</th>\n",
       "      <th>hora_utc</th>\n",
       "      <th>precip_tt_mm</th>\n",
       "    </tr>\n",
       "  </thead>\n",
       "  <tbody>\n",
       "    <tr>\n",
       "      <th>0</th>\n",
       "      <td>NE</td>\n",
       "      <td>PI</td>\n",
       "      <td>PARNAIBA</td>\n",
       "      <td>A308</td>\n",
       "      <td>-3,08666666</td>\n",
       "      <td>-41,78305554</td>\n",
       "      <td>52,11</td>\n",
       "      <td>2022/01/01</td>\n",
       "      <td>0000 UTC</td>\n",
       "      <td>NaN</td>\n",
       "    </tr>\n",
       "    <tr>\n",
       "      <th>1</th>\n",
       "      <td>NE</td>\n",
       "      <td>PI</td>\n",
       "      <td>PARNAIBA</td>\n",
       "      <td>A308</td>\n",
       "      <td>-3,08666666</td>\n",
       "      <td>-41,78305554</td>\n",
       "      <td>52,11</td>\n",
       "      <td>2022/01/01</td>\n",
       "      <td>0100 UTC</td>\n",
       "      <td>0.0</td>\n",
       "    </tr>\n",
       "    <tr>\n",
       "      <th>2</th>\n",
       "      <td>NE</td>\n",
       "      <td>PI</td>\n",
       "      <td>PARNAIBA</td>\n",
       "      <td>A308</td>\n",
       "      <td>-3,08666666</td>\n",
       "      <td>-41,78305554</td>\n",
       "      <td>52,11</td>\n",
       "      <td>2022/01/01</td>\n",
       "      <td>0200 UTC</td>\n",
       "      <td>NaN</td>\n",
       "    </tr>\n",
       "    <tr>\n",
       "      <th>3</th>\n",
       "      <td>NE</td>\n",
       "      <td>PI</td>\n",
       "      <td>PARNAIBA</td>\n",
       "      <td>A308</td>\n",
       "      <td>-3,08666666</td>\n",
       "      <td>-41,78305554</td>\n",
       "      <td>52,11</td>\n",
       "      <td>2022/01/01</td>\n",
       "      <td>0300 UTC</td>\n",
       "      <td>0.0</td>\n",
       "    </tr>\n",
       "    <tr>\n",
       "      <th>4</th>\n",
       "      <td>NE</td>\n",
       "      <td>PI</td>\n",
       "      <td>PARNAIBA</td>\n",
       "      <td>A308</td>\n",
       "      <td>-3,08666666</td>\n",
       "      <td>-41,78305554</td>\n",
       "      <td>52,11</td>\n",
       "      <td>2022/01/01</td>\n",
       "      <td>0400 UTC</td>\n",
       "      <td>0.0</td>\n",
       "    </tr>\n",
       "    <tr>\n",
       "      <th>...</th>\n",
       "      <td>...</td>\n",
       "      <td>...</td>\n",
       "      <td>...</td>\n",
       "      <td>...</td>\n",
       "      <td>...</td>\n",
       "      <td>...</td>\n",
       "      <td>...</td>\n",
       "      <td>...</td>\n",
       "      <td>...</td>\n",
       "      <td>...</td>\n",
       "    </tr>\n",
       "    <tr>\n",
       "      <th>8755</th>\n",
       "      <td>NE</td>\n",
       "      <td>PI</td>\n",
       "      <td>PARNAIBA</td>\n",
       "      <td>A308</td>\n",
       "      <td>-3,08666666</td>\n",
       "      <td>-41,78305554</td>\n",
       "      <td>52,11</td>\n",
       "      <td>2022/12/31</td>\n",
       "      <td>1900 UTC</td>\n",
       "      <td>0.0</td>\n",
       "    </tr>\n",
       "    <tr>\n",
       "      <th>8756</th>\n",
       "      <td>NE</td>\n",
       "      <td>PI</td>\n",
       "      <td>PARNAIBA</td>\n",
       "      <td>A308</td>\n",
       "      <td>-3,08666666</td>\n",
       "      <td>-41,78305554</td>\n",
       "      <td>52,11</td>\n",
       "      <td>2022/12/31</td>\n",
       "      <td>2000 UTC</td>\n",
       "      <td>0.0</td>\n",
       "    </tr>\n",
       "    <tr>\n",
       "      <th>8757</th>\n",
       "      <td>NE</td>\n",
       "      <td>PI</td>\n",
       "      <td>PARNAIBA</td>\n",
       "      <td>A308</td>\n",
       "      <td>-3,08666666</td>\n",
       "      <td>-41,78305554</td>\n",
       "      <td>52,11</td>\n",
       "      <td>2022/12/31</td>\n",
       "      <td>2100 UTC</td>\n",
       "      <td>0.0</td>\n",
       "    </tr>\n",
       "    <tr>\n",
       "      <th>8758</th>\n",
       "      <td>NE</td>\n",
       "      <td>PI</td>\n",
       "      <td>PARNAIBA</td>\n",
       "      <td>A308</td>\n",
       "      <td>-3,08666666</td>\n",
       "      <td>-41,78305554</td>\n",
       "      <td>52,11</td>\n",
       "      <td>2022/12/31</td>\n",
       "      <td>2200 UTC</td>\n",
       "      <td>0.0</td>\n",
       "    </tr>\n",
       "    <tr>\n",
       "      <th>8759</th>\n",
       "      <td>NE</td>\n",
       "      <td>PI</td>\n",
       "      <td>PARNAIBA</td>\n",
       "      <td>A308</td>\n",
       "      <td>-3,08666666</td>\n",
       "      <td>-41,78305554</td>\n",
       "      <td>52,11</td>\n",
       "      <td>2022/12/31</td>\n",
       "      <td>2300 UTC</td>\n",
       "      <td>0.0</td>\n",
       "    </tr>\n",
       "  </tbody>\n",
       "</table>\n",
       "<p>8760 rows × 10 columns</p>\n",
       "</div>"
      ],
      "text/plain": [
       "     regiao  uf   estacao codEst     latitude     longitude altitude   \n",
       "0        NE  PI  PARNAIBA   A308  -3,08666666  -41,78305554    52,11  \\\n",
       "1        NE  PI  PARNAIBA   A308  -3,08666666  -41,78305554    52,11   \n",
       "2        NE  PI  PARNAIBA   A308  -3,08666666  -41,78305554    52,11   \n",
       "3        NE  PI  PARNAIBA   A308  -3,08666666  -41,78305554    52,11   \n",
       "4        NE  PI  PARNAIBA   A308  -3,08666666  -41,78305554    52,11   \n",
       "...     ...  ..       ...    ...          ...           ...      ...   \n",
       "8755     NE  PI  PARNAIBA   A308  -3,08666666  -41,78305554    52,11   \n",
       "8756     NE  PI  PARNAIBA   A308  -3,08666666  -41,78305554    52,11   \n",
       "8757     NE  PI  PARNAIBA   A308  -3,08666666  -41,78305554    52,11   \n",
       "8758     NE  PI  PARNAIBA   A308  -3,08666666  -41,78305554    52,11   \n",
       "8759     NE  PI  PARNAIBA   A308  -3,08666666  -41,78305554    52,11   \n",
       "\n",
       "            data  hora_utc  precip_tt_mm  \n",
       "0     2022/01/01  0000 UTC           NaN  \n",
       "1     2022/01/01  0100 UTC           0.0  \n",
       "2     2022/01/01  0200 UTC           NaN  \n",
       "3     2022/01/01  0300 UTC           0.0  \n",
       "4     2022/01/01  0400 UTC           0.0  \n",
       "...          ...       ...           ...  \n",
       "8755  2022/12/31  1900 UTC           0.0  \n",
       "8756  2022/12/31  2000 UTC           0.0  \n",
       "8757  2022/12/31  2100 UTC           0.0  \n",
       "8758  2022/12/31  2200 UTC           0.0  \n",
       "8759  2022/12/31  2300 UTC           0.0  \n",
       "\n",
       "[8760 rows x 10 columns]"
      ]
     },
     "execution_count": 81,
     "metadata": {},
     "output_type": "execute_result"
    }
   ],
   "source": [
    "new_df.loc[new_df.estacao == 'PARNAIBA']"
   ]
  }
 ],
 "metadata": {
  "kernelspec": {
   "display_name": "Python 3 (ipykernel)",
   "language": "python",
   "name": "python3"
  },
  "language_info": {
   "codemirror_mode": {
    "name": "ipython",
    "version": 3
   },
   "file_extension": ".py",
   "mimetype": "text/x-python",
   "name": "python",
   "nbconvert_exporter": "python",
   "pygments_lexer": "ipython3",
   "version": "3.11.3"
  }
 },
 "nbformat": 4,
 "nbformat_minor": 5
}
