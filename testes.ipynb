{
 "cells": [
  {
   "cell_type": "code",
   "execution_count": 1,
   "id": "894931a7-5304-48dd-a6fb-e07cd644488f",
   "metadata": {},
   "outputs": [],
   "source": [
    "import pandas as pd\n",
    "import geopandas as gpd\n",
    "import basedosdados as bd"
   ]
  },
  {
   "cell_type": "code",
   "execution_count": 2,
   "id": "1863ae24-dd7c-4ae5-a089-7882a04ee232",
   "metadata": {
    "tags": []
   },
   "outputs": [
    {
     "name": "stderr",
     "output_type": "stream",
     "text": [
      "Downloading: 100%|███████████████████████████████████████████████████████████████████████████████████████████████████████████████████████| 612/612 [00:00<00:00, 1462.56rows/s]\n"
     ]
    }
   ],
   "source": [
    "df = bd.read_table(\n",
    "    dataset_id='br_inmet_bdmep',\n",
    "    table_id = 'estacao',\n",
    "    billing_project_id='estacoes-metereologica')"
   ]
  },
  {
   "cell_type": "code",
   "execution_count": 3,
   "id": "b0560ed8-b291-47c3-9f38-92a6d59cc841",
   "metadata": {
    "tags": []
   },
   "outputs": [
    {
     "data": {
      "text/html": [
       "<div>\n",
       "<style scoped>\n",
       "    .dataframe tbody tr th:only-of-type {\n",
       "        vertical-align: middle;\n",
       "    }\n",
       "\n",
       "    .dataframe tbody tr th {\n",
       "        vertical-align: top;\n",
       "    }\n",
       "\n",
       "    .dataframe thead th {\n",
       "        text-align: right;\n",
       "    }\n",
       "</style>\n",
       "<table border=\"1\" class=\"dataframe\">\n",
       "  <thead>\n",
       "    <tr style=\"text-align: right;\">\n",
       "      <th></th>\n",
       "      <th>id_municipio</th>\n",
       "      <th>id_estacao</th>\n",
       "      <th>estacao</th>\n",
       "      <th>data_fundacao</th>\n",
       "      <th>latitude</th>\n",
       "      <th>longitude</th>\n",
       "      <th>altitude</th>\n",
       "    </tr>\n",
       "  </thead>\n",
       "  <tbody>\n",
       "    <tr>\n",
       "      <th>0</th>\n",
       "      <td>5300108</td>\n",
       "      <td>A001</td>\n",
       "      <td>Brasilia</td>\n",
       "      <td>2000-05-07</td>\n",
       "      <td>-15.789444</td>\n",
       "      <td>-47.925833</td>\n",
       "      <td>1160.96</td>\n",
       "    </tr>\n",
       "    <tr>\n",
       "      <th>1</th>\n",
       "      <td>5300108</td>\n",
       "      <td>A042</td>\n",
       "      <td>Brazlandia</td>\n",
       "      <td>2017-07-19</td>\n",
       "      <td>-15.599722</td>\n",
       "      <td>-48.131111</td>\n",
       "      <td>1143.00</td>\n",
       "    </tr>\n",
       "    <tr>\n",
       "      <th>2</th>\n",
       "      <td>5300108</td>\n",
       "      <td>A045</td>\n",
       "      <td>Aguas Emendadas</td>\n",
       "      <td>2008-10-03</td>\n",
       "      <td>-15.596491</td>\n",
       "      <td>-47.625801</td>\n",
       "      <td>1030.36</td>\n",
       "    </tr>\n",
       "    <tr>\n",
       "      <th>3</th>\n",
       "      <td>5300108</td>\n",
       "      <td>A046</td>\n",
       "      <td>Gama (Ponte Alta)</td>\n",
       "      <td>2014-10-01</td>\n",
       "      <td>-15.935278</td>\n",
       "      <td>-48.137500</td>\n",
       "      <td>990.00</td>\n",
       "    </tr>\n",
       "    <tr>\n",
       "      <th>4</th>\n",
       "      <td>5300108</td>\n",
       "      <td>A047</td>\n",
       "      <td>Paranoa (Coopa-Df)</td>\n",
       "      <td>2017-02-07</td>\n",
       "      <td>-16.012222</td>\n",
       "      <td>-47.557417</td>\n",
       "      <td>1043.00</td>\n",
       "    </tr>\n",
       "  </tbody>\n",
       "</table>\n",
       "</div>"
      ],
      "text/plain": [
       "  id_municipio id_estacao             estacao data_fundacao   latitude  \\\n",
       "0      5300108       A001            Brasilia    2000-05-07 -15.789444   \n",
       "1      5300108       A042          Brazlandia    2017-07-19 -15.599722   \n",
       "2      5300108       A045     Aguas Emendadas    2008-10-03 -15.596491   \n",
       "3      5300108       A046   Gama (Ponte Alta)    2014-10-01 -15.935278   \n",
       "4      5300108       A047  Paranoa (Coopa-Df)    2017-02-07 -16.012222   \n",
       "\n",
       "   longitude  altitude  \n",
       "0 -47.925833   1160.96  \n",
       "1 -48.131111   1143.00  \n",
       "2 -47.625801   1030.36  \n",
       "3 -48.137500    990.00  \n",
       "4 -47.557417   1043.00  "
      ]
     },
     "execution_count": 3,
     "metadata": {},
     "output_type": "execute_result"
    }
   ],
   "source": [
    "df.head()"
   ]
  },
  {
   "cell_type": "code",
   "execution_count": 4,
   "id": "38d838e1-fe47-49cd-b5e8-5152dcc7194d",
   "metadata": {
    "tags": []
   },
   "outputs": [
    {
     "data": {
      "text/plain": [
       "(612, 7)"
      ]
     },
     "execution_count": 4,
     "metadata": {},
     "output_type": "execute_result"
    }
   ],
   "source": [
    "df.shape"
   ]
  },
  {
   "cell_type": "code",
   "execution_count": 5,
   "id": "1ae7ccc3-39a3-4258-92ea-6283dfc1ceed",
   "metadata": {
    "tags": []
   },
   "outputs": [
    {
     "data": {
      "text/plain": [
       "id_municipio      object\n",
       "id_estacao        object\n",
       "estacao           object\n",
       "data_fundacao     dbdate\n",
       "latitude         float64\n",
       "longitude        float64\n",
       "altitude         float64\n",
       "dtype: object"
      ]
     },
     "execution_count": 5,
     "metadata": {},
     "output_type": "execute_result"
    }
   ],
   "source": [
    "df.dtypes"
   ]
  },
  {
   "cell_type": "code",
   "execution_count": 8,
   "id": "91e11f5f-c4e9-4e76-8a3f-ce5243af1c6c",
   "metadata": {},
   "outputs": [],
   "source": [
    "gdf = gpd.GeoDataFrame(\n",
    "    df,\n",
    "    geometry=gpd.points_from_xy(df.longitude, df.latitude)\n",
    ")"
   ]
  },
  {
   "cell_type": "code",
   "execution_count": 9,
   "id": "725e80fd",
   "metadata": {},
   "outputs": [
    {
     "data": {
      "text/html": [
       "<div>\n",
       "<style scoped>\n",
       "    .dataframe tbody tr th:only-of-type {\n",
       "        vertical-align: middle;\n",
       "    }\n",
       "\n",
       "    .dataframe tbody tr th {\n",
       "        vertical-align: top;\n",
       "    }\n",
       "\n",
       "    .dataframe thead th {\n",
       "        text-align: right;\n",
       "    }\n",
       "</style>\n",
       "<table border=\"1\" class=\"dataframe\">\n",
       "  <thead>\n",
       "    <tr style=\"text-align: right;\">\n",
       "      <th></th>\n",
       "      <th>id_municipio</th>\n",
       "      <th>id_estacao</th>\n",
       "      <th>estacao</th>\n",
       "      <th>data_fundacao</th>\n",
       "      <th>latitude</th>\n",
       "      <th>longitude</th>\n",
       "      <th>altitude</th>\n",
       "      <th>geometry</th>\n",
       "    </tr>\n",
       "  </thead>\n",
       "  <tbody>\n",
       "    <tr>\n",
       "      <th>0</th>\n",
       "      <td>5300108</td>\n",
       "      <td>A001</td>\n",
       "      <td>Brasilia</td>\n",
       "      <td>2000-05-07</td>\n",
       "      <td>-15.789444</td>\n",
       "      <td>-47.925833</td>\n",
       "      <td>1160.96</td>\n",
       "      <td>POINT (-47.92583 -15.78944)</td>\n",
       "    </tr>\n",
       "    <tr>\n",
       "      <th>1</th>\n",
       "      <td>5300108</td>\n",
       "      <td>A042</td>\n",
       "      <td>Brazlandia</td>\n",
       "      <td>2017-07-19</td>\n",
       "      <td>-15.599722</td>\n",
       "      <td>-48.131111</td>\n",
       "      <td>1143.00</td>\n",
       "      <td>POINT (-48.13111 -15.59972)</td>\n",
       "    </tr>\n",
       "    <tr>\n",
       "      <th>2</th>\n",
       "      <td>5300108</td>\n",
       "      <td>A045</td>\n",
       "      <td>Aguas Emendadas</td>\n",
       "      <td>2008-10-03</td>\n",
       "      <td>-15.596491</td>\n",
       "      <td>-47.625801</td>\n",
       "      <td>1030.36</td>\n",
       "      <td>POINT (-47.62580 -15.59649)</td>\n",
       "    </tr>\n",
       "    <tr>\n",
       "      <th>3</th>\n",
       "      <td>5300108</td>\n",
       "      <td>A046</td>\n",
       "      <td>Gama (Ponte Alta)</td>\n",
       "      <td>2014-10-01</td>\n",
       "      <td>-15.935278</td>\n",
       "      <td>-48.137500</td>\n",
       "      <td>990.00</td>\n",
       "      <td>POINT (-48.13750 -15.93528)</td>\n",
       "    </tr>\n",
       "    <tr>\n",
       "      <th>4</th>\n",
       "      <td>5300108</td>\n",
       "      <td>A047</td>\n",
       "      <td>Paranoa (Coopa-Df)</td>\n",
       "      <td>2017-02-07</td>\n",
       "      <td>-16.012222</td>\n",
       "      <td>-47.557417</td>\n",
       "      <td>1043.00</td>\n",
       "      <td>POINT (-47.55742 -16.01222)</td>\n",
       "    </tr>\n",
       "  </tbody>\n",
       "</table>\n",
       "</div>"
      ],
      "text/plain": [
       "  id_municipio id_estacao             estacao data_fundacao   latitude  \\\n",
       "0      5300108       A001            Brasilia    2000-05-07 -15.789444   \n",
       "1      5300108       A042          Brazlandia    2017-07-19 -15.599722   \n",
       "2      5300108       A045     Aguas Emendadas    2008-10-03 -15.596491   \n",
       "3      5300108       A046   Gama (Ponte Alta)    2014-10-01 -15.935278   \n",
       "4      5300108       A047  Paranoa (Coopa-Df)    2017-02-07 -16.012222   \n",
       "\n",
       "   longitude  altitude                     geometry  \n",
       "0 -47.925833   1160.96  POINT (-47.92583 -15.78944)  \n",
       "1 -48.131111   1143.00  POINT (-48.13111 -15.59972)  \n",
       "2 -47.625801   1030.36  POINT (-47.62580 -15.59649)  \n",
       "3 -48.137500    990.00  POINT (-48.13750 -15.93528)  \n",
       "4 -47.557417   1043.00  POINT (-47.55742 -16.01222)  "
      ]
     },
     "execution_count": 9,
     "metadata": {},
     "output_type": "execute_result"
    }
   ],
   "source": [
    "gdf.head()"
   ]
  },
  {
   "cell_type": "code",
   "execution_count": 10,
   "id": "07f5bdd9",
   "metadata": {},
   "outputs": [
    {
     "data": {
      "text/plain": [
       "<Axes: >"
      ]
     },
     "execution_count": 10,
     "metadata": {},
     "output_type": "execute_result"
    },
    {
     "data": {
      "image/png": "[encoded data removed]",
      "text/plain": [
       "<Figure size 640x480 with 1 Axes>"
      ]
     },
     "metadata": {},
     "output_type": "display_data"
    }
   ],
   "source": [
    "gdf.plot()"
   ]
  },
  {
   "cell_type": "code",
   "execution_count": 11,
   "id": "1268ca50",
   "metadata": {},
   "outputs": [],
   "source": [
    "import matplotlib.pyplot as plt"
   ]
  },
  {
   "cell_type": "code",
   "execution_count": 13,
   "id": "31aeb9e1",
   "metadata": {},
   "outputs": [
    {
     "data": {
      "image/png": "[encoded data removed]",
      "text/plain": [
       "<Figure size 640x480 with 1 Axes>"
      ]
     },
     "metadata": {},
     "output_type": "display_data"
    }
   ],
   "source": [
    "mundo = gpd.read_file(gpd.datasets.get_path('naturalearth_lowres'))\n",
    "\n",
    "ax = mundo[mundo.continent == 'South America'].plot(\n",
    "    color='white', edgecolor = 'black')\n",
    "\n",
    "gdf.plot(ax=ax, color='red')\n",
    "\n",
    "plt.show()"
   ]
  },
  {
   "cell_type": "code",
   "execution_count": 26,
   "id": "23a74979",
   "metadata": {},
   "outputs": [
    {
     "data": {
      "text/html": [
       "<div>\n",
       "<style scoped>\n",
       "    .dataframe tbody tr th:only-of-type {\n",
       "        vertical-align: middle;\n",
       "    }\n",
       "\n",
       "    .dataframe tbody tr th {\n",
       "        vertical-align: top;\n",
       "    }\n",
       "\n",
       "    .dataframe thead th {\n",
       "        text-align: right;\n",
       "    }\n",
       "</style>\n",
       "<table border=\"1\" class=\"dataframe\">\n",
       "  <thead>\n",
       "    <tr style=\"text-align: right;\">\n",
       "      <th></th>\n",
       "      <th>id_municipio</th>\n",
       "      <th>id_estacao</th>\n",
       "      <th>estacao</th>\n",
       "      <th>data_fundacao</th>\n",
       "      <th>latitude</th>\n",
       "      <th>longitude</th>\n",
       "      <th>altitude</th>\n",
       "      <th>geometry</th>\n",
       "    </tr>\n",
       "  </thead>\n",
       "  <tbody>\n",
       "    <tr>\n",
       "      <th>0</th>\n",
       "      <td>5300108</td>\n",
       "      <td>A001</td>\n",
       "      <td>Brasilia</td>\n",
       "      <td>2000-05-07</td>\n",
       "      <td>-15.789444</td>\n",
       "      <td>-47.925833</td>\n",
       "      <td>1160.96</td>\n",
       "      <td>POINT (-47.92583 -15.78944)</td>\n",
       "    </tr>\n",
       "    <tr>\n",
       "      <th>1</th>\n",
       "      <td>5300108</td>\n",
       "      <td>A042</td>\n",
       "      <td>Brazlandia</td>\n",
       "      <td>2017-07-19</td>\n",
       "      <td>-15.599722</td>\n",
       "      <td>-48.131111</td>\n",
       "      <td>1143.00</td>\n",
       "      <td>POINT (-48.13111 -15.59972)</td>\n",
       "    </tr>\n",
       "    <tr>\n",
       "      <th>2</th>\n",
       "      <td>5300108</td>\n",
       "      <td>A045</td>\n",
       "      <td>Aguas Emendadas</td>\n",
       "      <td>2008-10-03</td>\n",
       "      <td>-15.596491</td>\n",
       "      <td>-47.625801</td>\n",
       "      <td>1030.36</td>\n",
       "      <td>POINT (-47.62580 -15.59649)</td>\n",
       "    </tr>\n",
       "    <tr>\n",
       "      <th>3</th>\n",
       "      <td>5300108</td>\n",
       "      <td>A046</td>\n",
       "      <td>Gama (Ponte Alta)</td>\n",
       "      <td>2014-10-01</td>\n",
       "      <td>-15.935278</td>\n",
       "      <td>-48.137500</td>\n",
       "      <td>990.00</td>\n",
       "      <td>POINT (-48.13750 -15.93528)</td>\n",
       "    </tr>\n",
       "    <tr>\n",
       "      <th>4</th>\n",
       "      <td>5300108</td>\n",
       "      <td>A047</td>\n",
       "      <td>Paranoa (Coopa-Df)</td>\n",
       "      <td>2017-02-07</td>\n",
       "      <td>-16.012222</td>\n",
       "      <td>-47.557417</td>\n",
       "      <td>1043.00</td>\n",
       "      <td>POINT (-47.55742 -16.01222)</td>\n",
       "    </tr>\n",
       "  </tbody>\n",
       "</table>\n",
       "</div>"
      ],
      "text/plain": [
       "  id_municipio id_estacao             estacao data_fundacao   latitude  \\\n",
       "0      5300108       A001            Brasilia    2000-05-07 -15.789444   \n",
       "1      5300108       A042          Brazlandia    2017-07-19 -15.599722   \n",
       "2      5300108       A045     Aguas Emendadas    2008-10-03 -15.596491   \n",
       "3      5300108       A046   Gama (Ponte Alta)    2014-10-01 -15.935278   \n",
       "4      5300108       A047  Paranoa (Coopa-Df)    2017-02-07 -16.012222   \n",
       "\n",
       "   longitude  altitude                     geometry  \n",
       "0 -47.925833   1160.96  POINT (-47.92583 -15.78944)  \n",
       "1 -48.131111   1143.00  POINT (-48.13111 -15.59972)  \n",
       "2 -47.625801   1030.36  POINT (-47.62580 -15.59649)  \n",
       "3 -48.137500    990.00  POINT (-48.13750 -15.93528)  \n",
       "4 -47.557417   1043.00  POINT (-47.55742 -16.01222)  "
      ]
     },
     "execution_count": 26,
     "metadata": {},
     "output_type": "execute_result"
    }
   ],
   "source": [
    "gdf.head()"
   ]
  },
  {
   "cell_type": "code",
   "execution_count": 28,
   "id": "5391473b",
   "metadata": {},
   "outputs": [
    {
     "data": {
      "text/html": [
       "<div>\n",
       "<style scoped>\n",
       "    .dataframe tbody tr th:only-of-type {\n",
       "        vertical-align: middle;\n",
       "    }\n",
       "\n",
       "    .dataframe tbody tr th {\n",
       "        vertical-align: top;\n",
       "    }\n",
       "\n",
       "    .dataframe thead th {\n",
       "        text-align: right;\n",
       "    }\n",
       "</style>\n",
       "<table border=\"1\" class=\"dataframe\">\n",
       "  <thead>\n",
       "    <tr style=\"text-align: right;\">\n",
       "      <th></th>\n",
       "      <th>id_municipio</th>\n",
       "      <th>id_estacao</th>\n",
       "      <th>estacao</th>\n",
       "      <th>data_fundacao</th>\n",
       "      <th>latitude</th>\n",
       "      <th>longitude</th>\n",
       "      <th>altitude</th>\n",
       "      <th>geometry</th>\n",
       "    </tr>\n",
       "  </thead>\n",
       "  <tbody>\n",
       "    <tr>\n",
       "      <th>589</th>\n",
       "      <td>None</td>\n",
       "      <td>C891</td>\n",
       "      <td>Criosfera</td>\n",
       "      <td>2012-01-09</td>\n",
       "      <td>-84.0</td>\n",
       "      <td>-79.494167</td>\n",
       "      <td>1285.0</td>\n",
       "      <td>POINT (-79.49417 -84.00000)</td>\n",
       "    </tr>\n",
       "  </tbody>\n",
       "</table>\n",
       "</div>"
      ],
      "text/plain": [
       "    id_municipio id_estacao    estacao data_fundacao  latitude  longitude  \\\n",
       "589         None       C891  Criosfera    2012-01-09     -84.0 -79.494167   \n",
       "\n",
       "     altitude                     geometry  \n",
       "589    1285.0  POINT (-79.49417 -84.00000)  "
      ]
     },
     "execution_count": 28,
     "metadata": {},
     "output_type": "execute_result"
    }
   ],
   "source": [
    "gdf.loc[gdf['latitude'] < -80]"
   ]
  },
  {
   "cell_type": "code",
   "execution_count": 29,
   "id": "6b19e3b6",
   "metadata": {},
   "outputs": [
    {
     "data": {
      "text/html": [
       "<div>\n",
       "<style scoped>\n",
       "    .dataframe tbody tr th:only-of-type {\n",
       "        vertical-align: middle;\n",
       "    }\n",
       "\n",
       "    .dataframe tbody tr th {\n",
       "        vertical-align: top;\n",
       "    }\n",
       "\n",
       "    .dataframe thead th {\n",
       "        text-align: right;\n",
       "    }\n",
       "</style>\n",
       "<table border=\"1\" class=\"dataframe\">\n",
       "  <thead>\n",
       "    <tr style=\"text-align: right;\">\n",
       "      <th></th>\n",
       "      <th>id_municipio</th>\n",
       "      <th>id_estacao</th>\n",
       "      <th>estacao</th>\n",
       "      <th>data_fundacao</th>\n",
       "      <th>latitude</th>\n",
       "      <th>longitude</th>\n",
       "      <th>altitude</th>\n",
       "      <th>geometry</th>\n",
       "    </tr>\n",
       "  </thead>\n",
       "  <tbody>\n",
       "    <tr>\n",
       "      <th>589</th>\n",
       "      <td>None</td>\n",
       "      <td>C891</td>\n",
       "      <td>Criosfera</td>\n",
       "      <td>2012-01-09</td>\n",
       "      <td>-84.0</td>\n",
       "      <td>-79.494167</td>\n",
       "      <td>1285.0</td>\n",
       "      <td>POINT (-79.49417 -84.00000)</td>\n",
       "    </tr>\n",
       "  </tbody>\n",
       "</table>\n",
       "</div>"
      ],
      "text/plain": [
       "    id_municipio id_estacao    estacao data_fundacao  latitude  longitude  \\\n",
       "589         None       C891  Criosfera    2012-01-09     -84.0 -79.494167   \n",
       "\n",
       "     altitude                     geometry  \n",
       "589    1285.0  POINT (-79.49417 -84.00000)  "
      ]
     },
     "execution_count": 29,
     "metadata": {},
     "output_type": "execute_result"
    }
   ],
   "source": [
    "gdf.query(\"latitude < -80\")"
   ]
  },
  {
   "cell_type": "code",
   "execution_count": null,
   "id": "8c8a8259",
   "metadata": {},
   "outputs": [],
   "source": []
  }
 ],
 "metadata": {
  "kernelspec": {
   "display_name": "Python 3 (ipykernel)",
   "language": "python",
   "name": "python3"
  },
  "language_info": {
   "codemirror_mode": {
    "name": "ipython",
    "version": 3
   },
   "file_extension": ".py",
   "mimetype": "text/x-python",
   "name": "python",
   "nbconvert_exporter": "python",
   "pygments_lexer": "ipython3",
   "version": "3.10.9"
  }
 },
 "nbformat": 4,
 "nbformat_minor": 5
}
